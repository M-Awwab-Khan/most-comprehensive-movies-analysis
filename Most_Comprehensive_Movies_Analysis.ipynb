{
  "nbformat": 4,
  "nbformat_minor": 0,
  "metadata": {
    "colab": {
      "provenance": [],
      "authorship_tag": "ABX9TyP4TM6DHU9jEXSK48urc/ln",
      "include_colab_link": true
    },
    "kernelspec": {
      "name": "python3",
      "display_name": "Python 3"
    },
    "language_info": {
      "name": "python"
    }
  },
  "cells": [
    {
      "cell_type": "markdown",
      "metadata": {
        "id": "view-in-github",
        "colab_type": "text"
      },
      "source": [
        "<a href=\"https://colab.research.google.com/github/M-Awwab-Khan/most-comprehensive-movies-analysis/blob/main/Most_Comprehensive_Movies_Analysis.ipynb\" target=\"_parent\"><img src=\"https://colab.research.google.com/assets/colab-badge.svg\" alt=\"Open In Colab\"/></a>"
      ]
    },
    {
      "cell_type": "markdown",
      "source": [
        "# The Most Comprehensive Movies Analysis\n",
        "\n",
        "## Download Dataset from Kaggle"
      ],
      "metadata": {
        "id": "YpGQ_NlumHUh"
      }
    },
    {
      "cell_type": "code",
      "source": [
        "! pip install -q kaggle"
      ],
      "metadata": {
        "id": "f9D3rL45liRj"
      },
      "execution_count": 3,
      "outputs": []
    },
    {
      "cell_type": "code",
      "execution_count": 2,
      "metadata": {
        "id": "IXScxuG_kxqy"
      },
      "outputs": [],
      "source": [
        "from google.colab import userdata\n",
        "import os\n",
        "\n",
        "os.environ[\"KAGGLE_KEY\"] = userdata.get('key')\n",
        "os.environ[\"KAGGLE_USERNAME\"] = userdata.get('username')"
      ]
    },
    {
      "cell_type": "code",
      "source": [
        "!kaggle datasets download -d alanvourch/tmdb-movies-daily-updates"
      ],
      "metadata": {
        "colab": {
          "base_uri": "https://localhost:8080/"
        },
        "id": "WWhQTsrZlwMZ",
        "outputId": "d2ffa3fd-4a79-4d69-ccd5-f33f7a08b75f"
      },
      "execution_count": 4,
      "outputs": [
        {
          "output_type": "stream",
          "name": "stdout",
          "text": [
            "Downloading tmdb-movies-daily-updates.zip to /content\n",
            " 94% 191M/204M [00:02<00:00, 71.3MB/s]\n",
            "100% 204M/204M [00:02<00:00, 72.0MB/s]\n"
          ]
        }
      ]
    },
    {
      "cell_type": "code",
      "source": [
        "! unzip \"tmdb-movies-daily-updates.zip\""
      ],
      "metadata": {
        "colab": {
          "base_uri": "https://localhost:8080/"
        },
        "id": "LLkBeF8Sl9pX",
        "outputId": "efaf731a-0024-437c-9fbd-bf21c786f123"
      },
      "execution_count": 5,
      "outputs": [
        {
          "output_type": "stream",
          "name": "stdout",
          "text": [
            "Archive:  tmdb-movies-daily-updates.zip\n",
            "  inflating: TMDB_all_movies.csv     \n"
          ]
        }
      ]
    },
    {
      "cell_type": "markdown",
      "source": [
        "## Loading Required Libraries"
      ],
      "metadata": {
        "id": "A2LkHgKZmTl-"
      }
    },
    {
      "cell_type": "code",
      "source": [
        "import numpy as np\n",
        "import pandas as pd\n",
        "import matplotlib.pyplot as plt\n",
        "import seaborn as sns"
      ],
      "metadata": {
        "id": "ffG3BqupmE4o"
      },
      "execution_count": 6,
      "outputs": []
    },
    {
      "cell_type": "markdown",
      "source": [
        "## CSV to Dataframe"
      ],
      "metadata": {
        "id": "HUTL5NtBmc-3"
      }
    },
    {
      "cell_type": "code",
      "source": [
        "df = pd.read_csv('TMDB_all_movies.csv')"
      ],
      "metadata": {
        "id": "GzPAQfJXmcCB"
      },
      "execution_count": 7,
      "outputs": []
    },
    {
      "cell_type": "code",
      "source": [
        "df.head()"
      ],
      "metadata": {
        "colab": {
          "base_uri": "https://localhost:8080/",
          "height": 655
        },
        "id": "ZoHtPu0xmnrQ",
        "outputId": "2750b3ef-99fd-44d7-9d6e-80aad4768f02"
      },
      "execution_count": 8,
      "outputs": [
        {
          "output_type": "execute_result",
          "data": {
            "text/plain": [
              "   id                             title  vote_average  vote_count    status  \\\n",
              "0   2                             Ariel         7.082         304  Released   \n",
              "1   3               Shadows in Paradise         7.300         348  Released   \n",
              "2   5                        Four Rooms         5.800        2536  Released   \n",
              "3   6                    Judgment Night         6.527         316  Released   \n",
              "4   8  Life in Loops (A Megacities RMX)         7.500          27  Released   \n",
              "\n",
              "  release_date     revenue  runtime      budget    imdb_id  ...  \\\n",
              "0   1988-10-21         0.0       73         0.0  tt0094675  ...   \n",
              "1   1986-10-17         0.0       74         0.0  tt0092149  ...   \n",
              "2   1995-12-09   4257354.0       98   4000000.0  tt0113101  ...   \n",
              "3   1993-10-15  12136938.0      109  21000000.0  tt0107286  ...   \n",
              "4   2006-01-01         0.0       80     42000.0  tt0825671  ...   \n",
              "\n",
              "                          genres  \\\n",
              "0  Drama, Comedy, Romance, Crime   \n",
              "1         Drama, Comedy, Romance   \n",
              "2                         Comedy   \n",
              "3        Action, Crime, Thriller   \n",
              "4                    Documentary   \n",
              "\n",
              "                           production_companies      production_countries  \\\n",
              "0                     Villealfa Filmproductions                   Finland   \n",
              "1                     Villealfa Filmproductions                   Finland   \n",
              "2                         Miramax, A Band Apart  United States of America   \n",
              "3  Largo Entertainment, JVC, Universal Pictures  United States of America   \n",
              "4                                       inLoops                   Austria   \n",
              "\n",
              "                         spoken_languages  \\\n",
              "0                                   suomi   \n",
              "1                 suomi, English, svenska   \n",
              "2                                 English   \n",
              "3                                 English   \n",
              "4  English, हिन्दी, 日本語, Pусский, Español   \n",
              "\n",
              "                                                cast  \\\n",
              "0  Markku Rantala, Esko Nikkari, Matti Pellonpää,...   \n",
              "1  Pekka Laiho, Neka Haapanen, Teuvo Rissanen, Ma...   \n",
              "2  Lana McKissack, Valeria Golino, Kimberly Blair...   \n",
              "3  Everlast, Peter Greene, Michael DeLorenzo, Den...   \n",
              "4                                                NaN   \n",
              "\n",
              "                                            director  \\\n",
              "0                                     Aki Kaurismäki   \n",
              "1                                     Aki Kaurismäki   \n",
              "2  Quentin Tarantino, Alexandre Rockwell, Robert ...   \n",
              "3                                    Stephen Hopkins   \n",
              "4                                       Timo Novotny   \n",
              "\n",
              "                             director_of_photography  \\\n",
              "0                                      Timo Salminen   \n",
              "1                                      Timo Salminen   \n",
              "2  Andrzej Sekula, Rodrigo García, Phil Parmet, G...   \n",
              "3                                         Peter Levy   \n",
              "4                                    Wolfgang Thaler   \n",
              "\n",
              "                                             writers  \\\n",
              "0                                     Aki Kaurismäki   \n",
              "1                                     Aki Kaurismäki   \n",
              "2  Quentin Tarantino, Alexandre Rockwell, Robert ...   \n",
              "3                      Jere Cunningham, Lewis Colick   \n",
              "4                    Michael Glawogger, Timo Novotny   \n",
              "\n",
              "                                           producers      music_composer  \n",
              "0                                     Aki Kaurismäki                 NaN  \n",
              "1                                    Mika Kaurismäki                 NaN  \n",
              "2  Quentin Tarantino, Alexandre Rockwell, Lawrenc...  Combustible Edison  \n",
              "3              Marilyn Vance, Gene Levy, Lloyd Segan      Alan Silvestri  \n",
              "4                     Ulrich Gehmacher, Timo Novotny                 NaN  \n",
              "\n",
              "[5 rows x 25 columns]"
            ],
            "text/html": [
              "\n",
              "  <div id=\"df-b1173e00-4d75-428f-8d77-38be4fb0438f\" class=\"colab-df-container\">\n",
              "    <div>\n",
              "<style scoped>\n",
              "    .dataframe tbody tr th:only-of-type {\n",
              "        vertical-align: middle;\n",
              "    }\n",
              "\n",
              "    .dataframe tbody tr th {\n",
              "        vertical-align: top;\n",
              "    }\n",
              "\n",
              "    .dataframe thead th {\n",
              "        text-align: right;\n",
              "    }\n",
              "</style>\n",
              "<table border=\"1\" class=\"dataframe\">\n",
              "  <thead>\n",
              "    <tr style=\"text-align: right;\">\n",
              "      <th></th>\n",
              "      <th>id</th>\n",
              "      <th>title</th>\n",
              "      <th>vote_average</th>\n",
              "      <th>vote_count</th>\n",
              "      <th>status</th>\n",
              "      <th>release_date</th>\n",
              "      <th>revenue</th>\n",
              "      <th>runtime</th>\n",
              "      <th>budget</th>\n",
              "      <th>imdb_id</th>\n",
              "      <th>...</th>\n",
              "      <th>genres</th>\n",
              "      <th>production_companies</th>\n",
              "      <th>production_countries</th>\n",
              "      <th>spoken_languages</th>\n",
              "      <th>cast</th>\n",
              "      <th>director</th>\n",
              "      <th>director_of_photography</th>\n",
              "      <th>writers</th>\n",
              "      <th>producers</th>\n",
              "      <th>music_composer</th>\n",
              "    </tr>\n",
              "  </thead>\n",
              "  <tbody>\n",
              "    <tr>\n",
              "      <th>0</th>\n",
              "      <td>2</td>\n",
              "      <td>Ariel</td>\n",
              "      <td>7.082</td>\n",
              "      <td>304</td>\n",
              "      <td>Released</td>\n",
              "      <td>1988-10-21</td>\n",
              "      <td>0.0</td>\n",
              "      <td>73</td>\n",
              "      <td>0.0</td>\n",
              "      <td>tt0094675</td>\n",
              "      <td>...</td>\n",
              "      <td>Drama, Comedy, Romance, Crime</td>\n",
              "      <td>Villealfa Filmproductions</td>\n",
              "      <td>Finland</td>\n",
              "      <td>suomi</td>\n",
              "      <td>Markku Rantala, Esko Nikkari, Matti Pellonpää,...</td>\n",
              "      <td>Aki Kaurismäki</td>\n",
              "      <td>Timo Salminen</td>\n",
              "      <td>Aki Kaurismäki</td>\n",
              "      <td>Aki Kaurismäki</td>\n",
              "      <td>NaN</td>\n",
              "    </tr>\n",
              "    <tr>\n",
              "      <th>1</th>\n",
              "      <td>3</td>\n",
              "      <td>Shadows in Paradise</td>\n",
              "      <td>7.300</td>\n",
              "      <td>348</td>\n",
              "      <td>Released</td>\n",
              "      <td>1986-10-17</td>\n",
              "      <td>0.0</td>\n",
              "      <td>74</td>\n",
              "      <td>0.0</td>\n",
              "      <td>tt0092149</td>\n",
              "      <td>...</td>\n",
              "      <td>Drama, Comedy, Romance</td>\n",
              "      <td>Villealfa Filmproductions</td>\n",
              "      <td>Finland</td>\n",
              "      <td>suomi, English, svenska</td>\n",
              "      <td>Pekka Laiho, Neka Haapanen, Teuvo Rissanen, Ma...</td>\n",
              "      <td>Aki Kaurismäki</td>\n",
              "      <td>Timo Salminen</td>\n",
              "      <td>Aki Kaurismäki</td>\n",
              "      <td>Mika Kaurismäki</td>\n",
              "      <td>NaN</td>\n",
              "    </tr>\n",
              "    <tr>\n",
              "      <th>2</th>\n",
              "      <td>5</td>\n",
              "      <td>Four Rooms</td>\n",
              "      <td>5.800</td>\n",
              "      <td>2536</td>\n",
              "      <td>Released</td>\n",
              "      <td>1995-12-09</td>\n",
              "      <td>4257354.0</td>\n",
              "      <td>98</td>\n",
              "      <td>4000000.0</td>\n",
              "      <td>tt0113101</td>\n",
              "      <td>...</td>\n",
              "      <td>Comedy</td>\n",
              "      <td>Miramax, A Band Apart</td>\n",
              "      <td>United States of America</td>\n",
              "      <td>English</td>\n",
              "      <td>Lana McKissack, Valeria Golino, Kimberly Blair...</td>\n",
              "      <td>Quentin Tarantino, Alexandre Rockwell, Robert ...</td>\n",
              "      <td>Andrzej Sekula, Rodrigo García, Phil Parmet, G...</td>\n",
              "      <td>Quentin Tarantino, Alexandre Rockwell, Robert ...</td>\n",
              "      <td>Quentin Tarantino, Alexandre Rockwell, Lawrenc...</td>\n",
              "      <td>Combustible Edison</td>\n",
              "    </tr>\n",
              "    <tr>\n",
              "      <th>3</th>\n",
              "      <td>6</td>\n",
              "      <td>Judgment Night</td>\n",
              "      <td>6.527</td>\n",
              "      <td>316</td>\n",
              "      <td>Released</td>\n",
              "      <td>1993-10-15</td>\n",
              "      <td>12136938.0</td>\n",
              "      <td>109</td>\n",
              "      <td>21000000.0</td>\n",
              "      <td>tt0107286</td>\n",
              "      <td>...</td>\n",
              "      <td>Action, Crime, Thriller</td>\n",
              "      <td>Largo Entertainment, JVC, Universal Pictures</td>\n",
              "      <td>United States of America</td>\n",
              "      <td>English</td>\n",
              "      <td>Everlast, Peter Greene, Michael DeLorenzo, Den...</td>\n",
              "      <td>Stephen Hopkins</td>\n",
              "      <td>Peter Levy</td>\n",
              "      <td>Jere Cunningham, Lewis Colick</td>\n",
              "      <td>Marilyn Vance, Gene Levy, Lloyd Segan</td>\n",
              "      <td>Alan Silvestri</td>\n",
              "    </tr>\n",
              "    <tr>\n",
              "      <th>4</th>\n",
              "      <td>8</td>\n",
              "      <td>Life in Loops (A Megacities RMX)</td>\n",
              "      <td>7.500</td>\n",
              "      <td>27</td>\n",
              "      <td>Released</td>\n",
              "      <td>2006-01-01</td>\n",
              "      <td>0.0</td>\n",
              "      <td>80</td>\n",
              "      <td>42000.0</td>\n",
              "      <td>tt0825671</td>\n",
              "      <td>...</td>\n",
              "      <td>Documentary</td>\n",
              "      <td>inLoops</td>\n",
              "      <td>Austria</td>\n",
              "      <td>English, हिन्दी, 日本語, Pусский, Español</td>\n",
              "      <td>NaN</td>\n",
              "      <td>Timo Novotny</td>\n",
              "      <td>Wolfgang Thaler</td>\n",
              "      <td>Michael Glawogger, Timo Novotny</td>\n",
              "      <td>Ulrich Gehmacher, Timo Novotny</td>\n",
              "      <td>NaN</td>\n",
              "    </tr>\n",
              "  </tbody>\n",
              "</table>\n",
              "<p>5 rows × 25 columns</p>\n",
              "</div>\n",
              "    <div class=\"colab-df-buttons\">\n",
              "\n",
              "  <div class=\"colab-df-container\">\n",
              "    <button class=\"colab-df-convert\" onclick=\"convertToInteractive('df-b1173e00-4d75-428f-8d77-38be4fb0438f')\"\n",
              "            title=\"Convert this dataframe to an interactive table.\"\n",
              "            style=\"display:none;\">\n",
              "\n",
              "  <svg xmlns=\"http://www.w3.org/2000/svg\" height=\"24px\" viewBox=\"0 -960 960 960\">\n",
              "    <path d=\"M120-120v-720h720v720H120Zm60-500h600v-160H180v160Zm220 220h160v-160H400v160Zm0 220h160v-160H400v160ZM180-400h160v-160H180v160Zm440 0h160v-160H620v160ZM180-180h160v-160H180v160Zm440 0h160v-160H620v160Z\"/>\n",
              "  </svg>\n",
              "    </button>\n",
              "\n",
              "  <style>\n",
              "    .colab-df-container {\n",
              "      display:flex;\n",
              "      gap: 12px;\n",
              "    }\n",
              "\n",
              "    .colab-df-convert {\n",
              "      background-color: #E8F0FE;\n",
              "      border: none;\n",
              "      border-radius: 50%;\n",
              "      cursor: pointer;\n",
              "      display: none;\n",
              "      fill: #1967D2;\n",
              "      height: 32px;\n",
              "      padding: 0 0 0 0;\n",
              "      width: 32px;\n",
              "    }\n",
              "\n",
              "    .colab-df-convert:hover {\n",
              "      background-color: #E2EBFA;\n",
              "      box-shadow: 0px 1px 2px rgba(60, 64, 67, 0.3), 0px 1px 3px 1px rgba(60, 64, 67, 0.15);\n",
              "      fill: #174EA6;\n",
              "    }\n",
              "\n",
              "    .colab-df-buttons div {\n",
              "      margin-bottom: 4px;\n",
              "    }\n",
              "\n",
              "    [theme=dark] .colab-df-convert {\n",
              "      background-color: #3B4455;\n",
              "      fill: #D2E3FC;\n",
              "    }\n",
              "\n",
              "    [theme=dark] .colab-df-convert:hover {\n",
              "      background-color: #434B5C;\n",
              "      box-shadow: 0px 1px 3px 1px rgba(0, 0, 0, 0.15);\n",
              "      filter: drop-shadow(0px 1px 2px rgba(0, 0, 0, 0.3));\n",
              "      fill: #FFFFFF;\n",
              "    }\n",
              "  </style>\n",
              "\n",
              "    <script>\n",
              "      const buttonEl =\n",
              "        document.querySelector('#df-b1173e00-4d75-428f-8d77-38be4fb0438f button.colab-df-convert');\n",
              "      buttonEl.style.display =\n",
              "        google.colab.kernel.accessAllowed ? 'block' : 'none';\n",
              "\n",
              "      async function convertToInteractive(key) {\n",
              "        const element = document.querySelector('#df-b1173e00-4d75-428f-8d77-38be4fb0438f');\n",
              "        const dataTable =\n",
              "          await google.colab.kernel.invokeFunction('convertToInteractive',\n",
              "                                                    [key], {});\n",
              "        if (!dataTable) return;\n",
              "\n",
              "        const docLinkHtml = 'Like what you see? Visit the ' +\n",
              "          '<a target=\"_blank\" href=https://colab.research.google.com/notebooks/data_table.ipynb>data table notebook</a>'\n",
              "          + ' to learn more about interactive tables.';\n",
              "        element.innerHTML = '';\n",
              "        dataTable['output_type'] = 'display_data';\n",
              "        await google.colab.output.renderOutput(dataTable, element);\n",
              "        const docLink = document.createElement('div');\n",
              "        docLink.innerHTML = docLinkHtml;\n",
              "        element.appendChild(docLink);\n",
              "      }\n",
              "    </script>\n",
              "  </div>\n",
              "\n",
              "\n",
              "<div id=\"df-573f4533-a51e-4cd7-9194-e055e3af2f67\">\n",
              "  <button class=\"colab-df-quickchart\" onclick=\"quickchart('df-573f4533-a51e-4cd7-9194-e055e3af2f67')\"\n",
              "            title=\"Suggest charts\"\n",
              "            style=\"display:none;\">\n",
              "\n",
              "<svg xmlns=\"http://www.w3.org/2000/svg\" height=\"24px\"viewBox=\"0 0 24 24\"\n",
              "     width=\"24px\">\n",
              "    <g>\n",
              "        <path d=\"M19 3H5c-1.1 0-2 .9-2 2v14c0 1.1.9 2 2 2h14c1.1 0 2-.9 2-2V5c0-1.1-.9-2-2-2zM9 17H7v-7h2v7zm4 0h-2V7h2v10zm4 0h-2v-4h2v4z\"/>\n",
              "    </g>\n",
              "</svg>\n",
              "  </button>\n",
              "\n",
              "<style>\n",
              "  .colab-df-quickchart {\n",
              "      --bg-color: #E8F0FE;\n",
              "      --fill-color: #1967D2;\n",
              "      --hover-bg-color: #E2EBFA;\n",
              "      --hover-fill-color: #174EA6;\n",
              "      --disabled-fill-color: #AAA;\n",
              "      --disabled-bg-color: #DDD;\n",
              "  }\n",
              "\n",
              "  [theme=dark] .colab-df-quickchart {\n",
              "      --bg-color: #3B4455;\n",
              "      --fill-color: #D2E3FC;\n",
              "      --hover-bg-color: #434B5C;\n",
              "      --hover-fill-color: #FFFFFF;\n",
              "      --disabled-bg-color: #3B4455;\n",
              "      --disabled-fill-color: #666;\n",
              "  }\n",
              "\n",
              "  .colab-df-quickchart {\n",
              "    background-color: var(--bg-color);\n",
              "    border: none;\n",
              "    border-radius: 50%;\n",
              "    cursor: pointer;\n",
              "    display: none;\n",
              "    fill: var(--fill-color);\n",
              "    height: 32px;\n",
              "    padding: 0;\n",
              "    width: 32px;\n",
              "  }\n",
              "\n",
              "  .colab-df-quickchart:hover {\n",
              "    background-color: var(--hover-bg-color);\n",
              "    box-shadow: 0 1px 2px rgba(60, 64, 67, 0.3), 0 1px 3px 1px rgba(60, 64, 67, 0.15);\n",
              "    fill: var(--button-hover-fill-color);\n",
              "  }\n",
              "\n",
              "  .colab-df-quickchart-complete:disabled,\n",
              "  .colab-df-quickchart-complete:disabled:hover {\n",
              "    background-color: var(--disabled-bg-color);\n",
              "    fill: var(--disabled-fill-color);\n",
              "    box-shadow: none;\n",
              "  }\n",
              "\n",
              "  .colab-df-spinner {\n",
              "    border: 2px solid var(--fill-color);\n",
              "    border-color: transparent;\n",
              "    border-bottom-color: var(--fill-color);\n",
              "    animation:\n",
              "      spin 1s steps(1) infinite;\n",
              "  }\n",
              "\n",
              "  @keyframes spin {\n",
              "    0% {\n",
              "      border-color: transparent;\n",
              "      border-bottom-color: var(--fill-color);\n",
              "      border-left-color: var(--fill-color);\n",
              "    }\n",
              "    20% {\n",
              "      border-color: transparent;\n",
              "      border-left-color: var(--fill-color);\n",
              "      border-top-color: var(--fill-color);\n",
              "    }\n",
              "    30% {\n",
              "      border-color: transparent;\n",
              "      border-left-color: var(--fill-color);\n",
              "      border-top-color: var(--fill-color);\n",
              "      border-right-color: var(--fill-color);\n",
              "    }\n",
              "    40% {\n",
              "      border-color: transparent;\n",
              "      border-right-color: var(--fill-color);\n",
              "      border-top-color: var(--fill-color);\n",
              "    }\n",
              "    60% {\n",
              "      border-color: transparent;\n",
              "      border-right-color: var(--fill-color);\n",
              "    }\n",
              "    80% {\n",
              "      border-color: transparent;\n",
              "      border-right-color: var(--fill-color);\n",
              "      border-bottom-color: var(--fill-color);\n",
              "    }\n",
              "    90% {\n",
              "      border-color: transparent;\n",
              "      border-bottom-color: var(--fill-color);\n",
              "    }\n",
              "  }\n",
              "</style>\n",
              "\n",
              "  <script>\n",
              "    async function quickchart(key) {\n",
              "      const quickchartButtonEl =\n",
              "        document.querySelector('#' + key + ' button');\n",
              "      quickchartButtonEl.disabled = true;  // To prevent multiple clicks.\n",
              "      quickchartButtonEl.classList.add('colab-df-spinner');\n",
              "      try {\n",
              "        const charts = await google.colab.kernel.invokeFunction(\n",
              "            'suggestCharts', [key], {});\n",
              "      } catch (error) {\n",
              "        console.error('Error during call to suggestCharts:', error);\n",
              "      }\n",
              "      quickchartButtonEl.classList.remove('colab-df-spinner');\n",
              "      quickchartButtonEl.classList.add('colab-df-quickchart-complete');\n",
              "    }\n",
              "    (() => {\n",
              "      let quickchartButtonEl =\n",
              "        document.querySelector('#df-573f4533-a51e-4cd7-9194-e055e3af2f67 button');\n",
              "      quickchartButtonEl.style.display =\n",
              "        google.colab.kernel.accessAllowed ? 'block' : 'none';\n",
              "    })();\n",
              "  </script>\n",
              "</div>\n",
              "    </div>\n",
              "  </div>\n"
            ],
            "application/vnd.google.colaboratory.intrinsic+json": {
              "type": "dataframe",
              "variable_name": "df"
            }
          },
          "metadata": {},
          "execution_count": 8
        }
      ]
    },
    {
      "cell_type": "code",
      "source": [
        "df.shape"
      ],
      "metadata": {
        "colab": {
          "base_uri": "https://localhost:8080/"
        },
        "id": "_KCjWleQmq4e",
        "outputId": "21f078b2-69fa-4992-a558-3de702701d75"
      },
      "execution_count": 9,
      "outputs": [
        {
          "output_type": "execute_result",
          "data": {
            "text/plain": [
              "(913699, 25)"
            ]
          },
          "metadata": {},
          "execution_count": 9
        }
      ]
    },
    {
      "cell_type": "markdown",
      "source": [
        "There are total 900K+ rows and 25 Features in our dataset. Such a huge number. Now let's analyze the datatypes of different features"
      ],
      "metadata": {
        "id": "Qlnf5beWmuL2"
      }
    },
    {
      "cell_type": "code",
      "source": [
        "df.info()"
      ],
      "metadata": {
        "colab": {
          "base_uri": "https://localhost:8080/"
        },
        "id": "zu3czxJfm5SV",
        "outputId": "5de7b6d5-6351-4f0d-950e-a8560feb6bb4"
      },
      "execution_count": 10,
      "outputs": [
        {
          "output_type": "stream",
          "name": "stdout",
          "text": [
            "<class 'pandas.core.frame.DataFrame'>\n",
            "RangeIndex: 913699 entries, 0 to 913698\n",
            "Data columns (total 25 columns):\n",
            " #   Column                   Non-Null Count   Dtype  \n",
            "---  ------                   --------------   -----  \n",
            " 0   id                       913699 non-null  int64  \n",
            " 1   title                    913694 non-null  object \n",
            " 2   vote_average             913699 non-null  float64\n",
            " 3   vote_count               913699 non-null  int64  \n",
            " 4   status                   913699 non-null  object \n",
            " 5   release_date             826530 non-null  object \n",
            " 6   revenue                  913699 non-null  float64\n",
            " 7   runtime                  913699 non-null  int64  \n",
            " 8   budget                   913699 non-null  float64\n",
            " 9   imdb_id                  554869 non-null  object \n",
            " 10  original_language        913699 non-null  object \n",
            " 11  original_title           913693 non-null  object \n",
            " 12  overview                 759818 non-null  object \n",
            " 13  popularity               913699 non-null  float64\n",
            " 14  tagline                  134449 non-null  object \n",
            " 15  genres                   647819 non-null  object \n",
            " 16  production_companies     421225 non-null  object \n",
            " 17  production_countries     560501 non-null  object \n",
            " 18  spoken_languages         563117 non-null  object \n",
            " 19  cast                     612706 non-null  object \n",
            " 20  director                 752457 non-null  object \n",
            " 21  director_of_photography  214618 non-null  object \n",
            " 22  writers                  439204 non-null  object \n",
            " 23  producers                285049 non-null  object \n",
            " 24  music_composer           87438 non-null   object \n",
            "dtypes: float64(4), int64(3), object(18)\n",
            "memory usage: 174.3+ MB\n"
          ]
        }
      ]
    }
  ]
}